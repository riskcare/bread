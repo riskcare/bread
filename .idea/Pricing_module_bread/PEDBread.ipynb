{
 "cells": [
  {
   "cell_type": "code",
   "id": "initial_id",
   "metadata": {
    "collapsed": true,
    "jupyter": {
     "is_executing": true
    }
   },
   "source": [
    "import pandas as pd\n",
    "\n",
    "# Sample data: historical prices and quantities of bread\n",
    "data = {\n",
    "    \"Price\": [1.00, 1.10, 1.05, 1.20, 1.30],  # Prices in currency units (e.g., GBP)\n",
    "    \"Quantity\": [500, 480, 490, 450, 420]  # Quantity sold in units\n",
    "}\n",
    "\n",
    "# Convert to DataFrame\n",
    "df = pd.DataFrame(data)\n",
    "\n",
    "# Calculate percentage change in price and quantity\n",
    "df[\"Price Change %\"] = df[\"Price\"].pct_change()\n",
    "df[\"Quantity Change %\"] = df[\"Quantity\"].pct_change()\n",
    "\n",
    "# Calculate Price Elasticity of Demand\n",
    "df[\"PED\"] = df[\"Quantity Change %\"] / df[\"Price Change %\"]\n",
    "\n",
    "# Display results (dropping the first row since pct_change() produces NaN there)\n",
    "print(df.dropna())"
   ],
   "outputs": [],
   "execution_count": null
  },
  {
   "metadata": {},
   "cell_type": "markdown",
   "source": [
    "Interpreting the Output\n",
    "-   If PED > 1 → Demand is elastic (consumers are sensitive to price changes).\n",
    "-   If PED < 1 → Demand is inelastic (consumers are not very responsive to price changes).\n",
    "-   If PED ≈ 1 → Demand is unitary elastic (proportional response to price changes).\n",
    "For essential goods like bread, PED is typically inelastic (PED < 1), meaning a price increase has a relatively small effect on quantity demanded.\n"
   ],
   "id": "40c9fde9bb8932b"
  }
 ],
 "metadata": {
  "kernelspec": {
   "display_name": "Python 3",
   "language": "python",
   "name": "python3"
  },
  "language_info": {
   "codemirror_mode": {
    "name": "ipython",
    "version": 2
   },
   "file_extension": ".py",
   "mimetype": "text/x-python",
   "name": "python",
   "nbconvert_exporter": "python",
   "pygments_lexer": "ipython2",
   "version": "2.7.6"
  }
 },
 "nbformat": 4,
 "nbformat_minor": 5
}
