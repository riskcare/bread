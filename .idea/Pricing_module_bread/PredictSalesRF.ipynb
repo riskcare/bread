{
 "cells": [
  {
   "cell_type": "code",
   "execution_count": 7,
   "id": "initial_id",
   "metadata": {
    "collapsed": true
   },
   "outputs": [
    {
     "name": "stdout",
     "output_type": "stream",
     "text": [
      "Mean Absolute Error: 9.0\n",
      "Predicted Sales: 425.8\n"
     ]
    }
   ],
   "source": [
    "import pandas as pd\n",
    "import numpy as np\n",
    "from sklearn.ensemble import RandomForestRegressor\n",
    "from sklearn.model_selection import train_test_split\n",
    "from sklearn.metrics import mean_absolute_error\n",
    "\n",
    "# Sample dataset (replace with real data)\n",
    "data = {\n",
    "    \"Own_Price\": [10, 12, 15, 11, 14, 16, 9, 13, 18, 20],\n",
    "    \"Other_Price\": [12, 14, 15, 13, 17, 18, 10, 15, 19, 21],\n",
    "    \"Sales\": [500, 450, 420, 480, 400, 390, 550, 430, 380, 350]\n",
    "}\n",
    "\n",
    "df = pd.DataFrame(data)\n",
    "\n",
    "# Splitting data into training and test sets\n",
    "X = df[[\"Own_Price\", \"Other_Price\"]]\n",
    "y = df[\"Sales\"]\n",
    "X_train, X_test, y_train, y_test = train_test_split(X, y, test_size=0.2, random_state=42)\n",
    "\n",
    "# Train Random Forest model\n",
    "rf_model = RandomForestRegressor(n_estimators=100, random_state=42)\n",
    "rf_model.fit(X_train, y_train)\n",
    "\n",
    "# Make predictions\n",
    "y_pred = rf_model.predict(X_test)\n",
    "\n",
    "# Evaluate model performance\n",
    "mae = mean_absolute_error(y_test, y_pred)\n",
    "print(f\"Mean Absolute Error: {mae}\")\n",
    "\n",
    "# Predict sales for a new price level (Example: Own price = 13, Other price = 16)\n",
    "new_price = pd.DataFrame([[13, 16]], columns=[\"Own_Price\", \"Other_Price\"])\n",
    "predicted_sales = rf_model.predict(new_price)\n",
    "print(f\"Predicted Sales: {predicted_sales[0]}\")\n"
   ]
  }
 ],
 "metadata": {
  "kernelspec": {
   "display_name": "ai_demo_env",
   "language": "python",
   "name": "python3"
  },
  "language_info": {
   "codemirror_mode": {
    "name": "ipython",
    "version": 3
   },
   "file_extension": ".py",
   "mimetype": "text/x-python",
   "name": "python",
   "nbconvert_exporter": "python",
   "pygments_lexer": "ipython3",
   "version": "3.10.16"
  }
 },
 "nbformat": 4,
 "nbformat_minor": 5
}
