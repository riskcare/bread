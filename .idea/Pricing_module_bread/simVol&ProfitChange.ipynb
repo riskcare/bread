{
 "cells": [
  {
   "cell_type": "code",
   "execution_count": 1,
   "id": "initial_id",
   "metadata": {
    "collapsed": true,
    "jupyter": {
     "is_executing": true
    }
   },
   "outputs": [
    {
     "name": "stdout",
     "output_type": "stream",
     "text": [
      "      Price    Quantity     Revenue      Profit\n",
      "0  0.800000  540.000000  432.000000  108.000000\n",
      "1  0.844444  531.111111  448.493827  129.827160\n",
      "2  0.888889  522.222222  464.197531  150.864198\n",
      "3  0.933333  513.333333  479.111111  171.111111\n",
      "4  0.977778  504.444444  493.234568  190.567901\n",
      "5  1.022222  495.555556  506.567901  209.234568\n",
      "6  1.066667  486.666667  519.111111  227.111111\n",
      "7  1.111111  477.777778  530.864198  244.197531\n",
      "8  1.155556  468.888889  541.827160  260.493827\n",
      "9  1.200000  460.000000  552.000000  276.000000\n"
     ]
    }
   ],
   "source": [
    "import numpy as np\n",
    "import pandas as pd\n",
    "\n",
    "# Given values\n",
    "initial_price = 1.00   # Initial price of bread\n",
    "initial_quantity = 500  # Initial quantity sold\n",
    "cost_per_unit = 0.60    # Cost per unit of bread\n",
    "price_elasticity = -0.4 # Example elasticity (inelastic demand)\n",
    "\n",
    "# Generate a range of new prices (increase/decrease by 20%)\n",
    "price_changes = np.linspace(0.8, 1.2, 10) * initial_price\n",
    "\n",
    "# Calculate new quantities, revenue, and profit\n",
    "results = []\n",
    "for new_price in price_changes:\n",
    "    price_change_pct = (new_price - initial_price) / initial_price  # % Change in Price\n",
    "    new_quantity = initial_quantity * (1 + price_elasticity * price_change_pct)  # New Quantity\n",
    "    revenue = new_price * new_quantity  # Revenue\n",
    "    profit = (new_price - cost_per_unit) * new_quantity  # Profit\n",
    "\n",
    "    results.append([new_price, new_quantity, revenue, profit])\n",
    "\n",
    "# Convert to DataFrame\n",
    "df = pd.DataFrame(results, columns=[\"Price\", \"Quantity\", \"Revenue\", \"Profit\"])\n",
    "\n",
    "# Display results\n",
    "print(df)\n"
   ]
  },
  {
   "metadata": {},
   "cell_type": "markdown",
   "source": [
    "Interpreting the Output\n",
    "- As the price increases, demand decreases due to negative elasticity.\n",
    "- Revenue and profit may not move in the same direction, depending on elasticity.\n",
    "- For inelastic demand (|PED| < 1), higher prices may increase total revenue.\n",
    "- For elastic demand (|PED| > 1), higher prices reduce total revenue.\n",
    "\n",
    "This helps businesses optimize pricing strategies to maximize profitability while considering consumer response. 🚀\n",
    "\n"
   ],
   "id": "926bbb45c2544ce4"
  }
 ],
 "metadata": {
  "kernelspec": {
   "display_name": "ai_demo_env",
   "language": "python",
   "name": "python3"
  },
  "language_info": {
   "codemirror_mode": {
    "name": "ipython",
    "version": 3
   },
   "file_extension": ".py",
   "mimetype": "text/x-python",
   "name": "python",
   "nbconvert_exporter": "python",
   "pygments_lexer": "ipython3",
   "version": "3.10.16"
  }
 },
 "nbformat": 4,
 "nbformat_minor": 5
}
