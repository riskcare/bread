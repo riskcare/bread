{
 "cells": [
  {
   "cell_type": "code",
   "id": "initial_id",
   "metadata": {
    "collapsed": true,
    "ExecuteTime": {
     "end_time": "2025-03-17T09:45:28.532822Z",
     "start_time": "2025-03-17T09:45:27.550302Z"
    }
   },
   "source": [
    "import numpy as np\n",
    "import pandas as pd\n",
    "from sklearn.linear_model import LinearRegression\n",
    "from sklearn.metrics import mean_squared_error\n",
    "\n",
    "# Sample Data: Price, Sales Volume, Competitor Price/Volume\n",
    "data = {\n",
    "    'Price': [1.00, 1.10, 1.20, 1.15, 1.30],\n",
    "    'Sales_Volume': [500, 460, 430, 480, 400],\n",
    "    'Competitor_Price': [1.10, 1.15, 1.25, 1.20, 1.30]\n",
    "}\n",
    "\n",
    "df = pd.DataFrame(data)\n",
    "\n",
    "# Taking log of the data for log-log regression\n",
    "df['log_Price'] = np.log(df['Price'])\n",
    "df['log_Sales_Volume'] = np.log(df['Sales_Volume'])\n",
    "df['log_Competitor_Price'] = np.log(df['Competitor_Price'])\n",
    "\n",
    "# Define independent variables (X) and dependent variable (y)\n",
    "X = df[['log_Price', 'log_Competitor_Price']]\n",
    "y = df['log_Sales_Volume']\n",
    "\n",
    "# Fit a linear regression model (log-log model)\n",
    "model = LinearRegression()\n",
    "model.fit(X, y)\n",
    "\n",
    "# Coefficients of the model\n",
    "print(\"Intercept (Beta_0):\", model.intercept_)\n",
    "print(\"Price Elasticity (Beta_1):\", model.coef_[0])\n",
    "print(\"Competitor Elasticity (Beta_2):\", model.coef_[1])\n",
    "\n",
    "# Predict sales for a new price and competitor's price\n",
    "new_price = 1.25  # New price of bread\n",
    "competitor_price = 1.20  # Competitor's price\n",
    "\n",
    "log_predicted_sales = model.intercept_ + model.coef_[0] * np.log(new_price) + model.coef_[1] * np.log(competitor_price)\n",
    "predicted_sales = np.exp(log_predicted_sales)\n",
    "\n",
    "print(f\"Predicted Sales Volume: {predicted_sales:.2f}\")\n"
   ],
   "outputs": [
    {
     "name": "stdout",
     "output_type": "stream",
     "text": [
      "Intercept (Beta_0): 6.223987320383592\n",
      "Price Elasticity (Beta_1): -0.8688132513065764\n",
      "Competitor Elasticity (Beta_2): 0.05041142903371615\n",
      "Predicted Sales Volume: 419.60\n"
     ]
    }
   ],
   "execution_count": 1
  },
  {
   "metadata": {},
   "cell_type": "markdown",
   "source": [
    "Interpretation of Results:\n",
    "-   Intercept (Beta_0): The base level of sales when all predictors are at their baseline (price = 1, competitor price = 1).\n",
    "-   Price Elasticity (Beta_1): If Beta_1 is -0.5, a 10% increase in price will result in a 5% decrease in sales.\n",
    "-   Competitor Elasticity (Beta_2): If Beta_2 is -0.3, a 10% increase in competitor price will result in a 3% increase in your sales.\n"
   ],
   "id": "4e349cf1e1ce4b75"
  }
 ],
 "metadata": {
  "kernelspec": {
   "display_name": "ai_demo_env",
   "language": "python",
   "name": "python3"
  },
  "language_info": {
   "codemirror_mode": {
    "name": "ipython",
    "version": 3
   },
   "file_extension": ".py",
   "mimetype": "text/x-python",
   "name": "python",
   "nbconvert_exporter": "python",
   "pygments_lexer": "ipython3",
   "version": "3.10.16"
  }
 },
 "nbformat": 4,
 "nbformat_minor": 5
}
